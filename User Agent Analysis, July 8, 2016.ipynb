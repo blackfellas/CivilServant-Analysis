{
 "cells": [
  {
   "cell_type": "code",
   "execution_count": 116,
   "metadata": {
    "collapsed": true
   },
   "outputs": [],
   "source": [
    "%matplotlib inline\n",
    "import inspect, os, sys, copy, pytz, re, glob, csv\n",
    "import matplotlib.pyplot as plt   # Matplotlib for plotting\n",
    "import user_agents # For parsing user agents"
   ]
  },
  {
   "cell_type": "markdown",
   "metadata": {},
   "source": [
    "### Load CSV of User-Agents"
   ]
  },
  {
   "cell_type": "code",
   "execution_count": 117,
   "metadata": {
    "collapsed": false
   },
   "outputs": [],
   "source": [
    "science_user_agents = []\n",
    "with open(\"private_data/science_comment_counts_by_ua.csv\", \"r\") as f:\n",
    "    for row in csv.DictReader(f):\n",
    "        science_user_agents.append(row)\n",
    "#science_user_agents[0].keys()\n",
    "#Count Events ==> Number of comments\n",
    "#user_id count ==> Unique users"
   ]
  },
  {
   "cell_type": "code",
   "execution_count": 118,
   "metadata": {
    "collapsed": false
   },
   "outputs": [
    {
     "name": "stdout",
     "output_type": "stream",
     "text": [
      "Total commenters in last 28 days: 39488\n"
     ]
    }
   ],
   "source": [
    "total_commenters = sum([int(x['user_id count']) for x in science_user_agents])\n",
    "print(\"Total commenters in last 28 days: {0}\".format(total_commenters))"
   ]
  },
  {
   "cell_type": "markdown",
   "metadata": {},
   "source": [
    "### Parse User Agents"
   ]
  },
  {
   "cell_type": "code",
   "execution_count": 119,
   "metadata": {
    "collapsed": false,
    "scrolled": false
   },
   "outputs": [],
   "source": [
    "def get_ua_type(ua):\n",
    "    keys = [\"BaconReader\",\"Relay\", \"reddit is fun\",\n",
    "            \"Reddit/Version\", \"amrc\", \"laurencedawson\",\n",
    "            \"RedditAndroid\", \"Readit for WP\", \"AlienBlue\",\n",
    "            \"narwhal\"]\n",
    "    for key in keys:\n",
    "        if(key in ua):\n",
    "            return \"app\"\n",
    "    if user_agents.parse(ua).is_mobile:\n",
    "        return \"mobile\"\n",
    "    return(\"desktop\")"
   ]
  },
  {
   "cell_type": "code",
   "execution_count": 120,
   "metadata": {
    "collapsed": false,
    "scrolled": false
   },
   "outputs": [],
   "source": [
    "from collections import Counter, defaultdict\n",
    "\n",
    "ua_sums = defaultdict(lambda: defaultdict(int))\n",
    "totals = defaultdict(int)\n",
    "for ua in science_user_agents:\n",
    "    ua_type = get_ua_type(ua['user_agent'])\n",
    "    for key in ['user_id count', 'Count Events']:\n",
    "        ua_sums[ua_type][key] += int(ua[key])\n",
    "        totals[key] += int(ua[key])"
   ]
  },
  {
   "cell_type": "code",
   "execution_count": 121,
   "metadata": {
    "collapsed": false
   },
   "outputs": [
    {
     "name": "stdout",
     "output_type": "stream",
     "text": [
      "Mobile Web: 8.2% of Unique Commenters\n",
      "Desktop Web: 54% of Unique Commenters\n",
      "App: 38% of Unique Commenters\n",
      "\n",
      "\n",
      "Mobile Web: 9.4% of Total Comments\n",
      "Desktop Web: 58% of Total Comments\n",
      "App: 32% of Total Comments\n",
      "\n",
      "\n"
     ]
    }
   ],
   "source": [
    "labels = {\"user_id count\": \"Unique Commenters\",\n",
    "          \"Count Events\": \"Total Comments\"}\n",
    "for key in totals.keys():\n",
    "    pct_mobile = float(float(ua_sums[\"mobile\"][key]) / float(totals[key])) * 100.\n",
    "    print(\"Mobile Web: {value:.2g}% of {key}\".format(value = pct_mobile, key=labels[key]))\n",
    "    pct_desktop = float(float(ua_sums[\"desktop\"][key]) / float(totals[key])) * 100.\n",
    "    print(\"Desktop Web: {value:.2g}% of {key}\".format(value = pct_desktop, key=labels[key]))\n",
    "    pct_app = float(float(ua_sums[\"app\"][key]) / float(totals[key])) * 100.\n",
    "    print(\"App: {value:.2g}% of {key}\".format(value = pct_app, key=labels[key]))\n",
    "    print(\"\")\n",
    "    print(\"\")"
   ]
  }
 ],
 "metadata": {
  "kernelspec": {
   "display_name": "Python 3",
   "language": "python",
   "name": "python3"
  },
  "language_info": {
   "codemirror_mode": {
    "name": "ipython",
    "version": 3
   },
   "file_extension": ".py",
   "mimetype": "text/x-python",
   "name": "python",
   "nbconvert_exporter": "python",
   "pygments_lexer": "ipython3",
   "version": "3.4.3"
  }
 },
 "nbformat": 4,
 "nbformat_minor": 0
}
